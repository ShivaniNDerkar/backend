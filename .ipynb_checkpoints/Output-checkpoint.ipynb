{
 "cells": [
  {
   "cell_type": "code",
   "execution_count": 2,
   "id": "3790e9c4-ebf8-466f-8be8-ce784a4eb3d0",
   "metadata": {},
   "outputs": [
    {
     "name": "stdout",
     "output_type": "stream",
     "text": [
      "workpiecegraph.html\n",
      "featuregraph.html\n"
     ]
    }
   ],
   "source": [
    "# Task 1 and 2\n",
    "%run graph_search_task.py"
   ]
  },
  {
   "cell_type": "code",
   "execution_count": 1,
   "id": "07da6dff-712e-4cd5-92a0-0425dffe08be",
   "metadata": {},
   "outputs": [
    {
     "name": "stdout",
     "output_type": "stream",
     "text": [
      "workpiecegraph.html\n",
      "featuregraph.html\n",
      "Feature graph is a subgraph of the workpiece graph\n"
     ]
    }
   ],
   "source": [
    "# Task 3\n",
    "%run graph_search_task.py"
   ]
  },
  {
   "cell_type": "code",
   "execution_count": null,
   "id": "1d57c12e-b385-49d6-be8d-03bcab66ffe8",
   "metadata": {},
   "outputs": [],
   "source": []
  }
 ],
 "metadata": {
  "kernelspec": {
   "display_name": "Python [conda env:base] *",
   "language": "python",
   "name": "conda-base-py"
  },
  "language_info": {
   "codemirror_mode": {
    "name": "ipython",
    "version": 3
   },
   "file_extension": ".py",
   "mimetype": "text/x-python",
   "name": "python",
   "nbconvert_exporter": "python",
   "pygments_lexer": "ipython3",
   "version": "3.12.7"
  }
 },
 "nbformat": 4,
 "nbformat_minor": 5
}
