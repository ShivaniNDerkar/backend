{
 "cells": [
  {
   "cell_type": "code",
   "execution_count": 2,
   "id": "3790e9c4-ebf8-466f-8be8-ce784a4eb3d0",
   "metadata": {
    "scrolled": true
   },
   "outputs": [
    {
     "name": "stdout",
     "output_type": "stream",
     "text": [
      "workpiecegraph.html\n",
      "featuregraph.html\n",
      "Feature graph is a subgraph of the workpiece graph\n"
     ]
    }
   ],
   "source": [
    "# Task 1 and 2\n",
    "%run graph_search_task.py"
   ]
  },
  {
   "cell_type": "code",
   "execution_count": 3,
   "id": "07da6dff-712e-4cd5-92a0-0425dffe08be",
   "metadata": {},
   "outputs": [
    {
     "name": "stdout",
     "output_type": "stream",
     "text": [
      "workpiecegraph.html\n",
      "featuregraph.html\n",
      "Feature graph is a subgraph of the workpiece graph\n"
     ]
    }
   ],
   "source": [
    "# Task 3\n",
    "%run graph_search_task.py"
   ]
  },
  {
   "cell_type": "code",
   "execution_count": 9,
   "id": "1d57c12e-b385-49d6-be8d-03bcab66ffe8",
   "metadata": {},
   "outputs": [
    {
     "name": "stdout",
     "output_type": "stream",
     "text": [
      "workpiecegraph.html\n",
      "featuregraph.html\n",
      "Feature graph is a subgraph of the workpiece graph\n",
      "Found 7 matching subgraph(s):\n",
      "{83: 99, 81: 102, 79: 110, 78: 108}\n",
      "{99: 99, 102: 102, 110: 110, 108: 108}\n",
      "{99: 99, 103: 102, 111: 110, 108: 108}\n",
      "{99: 99, 104: 102, 112: 110, 108: 108}\n",
      "{99: 99, 105: 102, 113: 110, 108: 108}\n",
      "{99: 99, 106: 102, 114: 110, 108: 108}\n",
      "{99: 99, 107: 102, 115: 110, 108: 108}\n"
     ]
    }
   ],
   "source": [
    "# Task 4\n",
    "%run graph_search_task.py"
   ]
  },
  {
   "cell_type": "code",
   "execution_count": null,
   "id": "196786ea-49f6-44fb-8567-30186696b898",
   "metadata": {},
   "outputs": [],
   "source": []
  }
 ],
 "metadata": {
  "kernelspec": {
   "display_name": "Python [conda env:base] *",
   "language": "python",
   "name": "conda-base-py"
  },
  "language_info": {
   "codemirror_mode": {
    "name": "ipython",
    "version": 3
   },
   "file_extension": ".py",
   "mimetype": "text/x-python",
   "name": "python",
   "nbconvert_exporter": "python",
   "pygments_lexer": "ipython3",
   "version": "3.12.7"
  }
 },
 "nbformat": 4,
 "nbformat_minor": 5
}
